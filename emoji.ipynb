{
 "cells": [
  {
   "cell_type": "markdown",
   "metadata": {},
   "source": [
    "# emoji prediciton"
   ]
  },
  {
   "cell_type": "markdown",
   "metadata": {},
   "source": [
    "## Importing pickle files"
   ]
  },
  {
   "cell_type": "code",
   "execution_count": 3,
   "metadata": {
    "scrolled": false
   },
   "outputs": [
    {
     "output_type": "error",
     "ename": "FileNotFoundError",
     "evalue": "[Errno 2] No such file or directory: './emoji_train.pkl'",
     "traceback": [
      "\u001b[0;31m---------------------------------------------------------------------------\u001b[0m",
      "\u001b[0;31mFileNotFoundError\u001b[0m                         Traceback (most recent call last)",
      "\u001b[0;32m<ipython-input-3-05b2947a2d4e>\u001b[0m in \u001b[0;36m<module>\u001b[0;34m\u001b[0m\n\u001b[1;32m      3\u001b[0m \u001b[0;32mimport\u001b[0m \u001b[0mnumpy\u001b[0m \u001b[0;32mas\u001b[0m \u001b[0mnp\u001b[0m\u001b[0;34m\u001b[0m\u001b[0;34m\u001b[0m\u001b[0m\n\u001b[1;32m      4\u001b[0m \u001b[0;34m\u001b[0m\u001b[0m\n\u001b[0;32m----> 5\u001b[0;31m \u001b[0mtrain\u001b[0m \u001b[0;34m=\u001b[0m \u001b[0mpd\u001b[0m\u001b[0;34m.\u001b[0m\u001b[0mread_pickle\u001b[0m\u001b[0;34m(\u001b[0m\u001b[0;34m'./emoji_train.pkl'\u001b[0m\u001b[0;34m)\u001b[0m\u001b[0;34m\u001b[0m\u001b[0;34m\u001b[0m\u001b[0m\n\u001b[0m\u001b[1;32m      6\u001b[0m \u001b[0mtest\u001b[0m \u001b[0;34m=\u001b[0m \u001b[0mpd\u001b[0m\u001b[0;34m.\u001b[0m\u001b[0mread_pickle\u001b[0m\u001b[0;34m(\u001b[0m\u001b[0;34m'./emoji_test.pkl'\u001b[0m\u001b[0;34m)\u001b[0m\u001b[0;34m\u001b[0m\u001b[0;34m\u001b[0m\u001b[0m\n\u001b[1;32m      7\u001b[0m \u001b[0;34m\u001b[0m\u001b[0m\n",
      "\u001b[0;32m~/anaconda3/lib/python3.7/site-packages/pandas/io/pickle.py\u001b[0m in \u001b[0;36mread_pickle\u001b[0;34m(filepath_or_buffer, compression, storage_options)\u001b[0m\n\u001b[1;32m    188\u001b[0m         \u001b[0mcompression\u001b[0m\u001b[0;34m=\u001b[0m\u001b[0mcompression\u001b[0m\u001b[0;34m,\u001b[0m\u001b[0;34m\u001b[0m\u001b[0;34m\u001b[0m\u001b[0m\n\u001b[1;32m    189\u001b[0m         \u001b[0mis_text\u001b[0m\u001b[0;34m=\u001b[0m\u001b[0;32mFalse\u001b[0m\u001b[0;34m,\u001b[0m\u001b[0;34m\u001b[0m\u001b[0;34m\u001b[0m\u001b[0m\n\u001b[0;32m--> 190\u001b[0;31m         \u001b[0mstorage_options\u001b[0m\u001b[0;34m=\u001b[0m\u001b[0mstorage_options\u001b[0m\u001b[0;34m,\u001b[0m\u001b[0;34m\u001b[0m\u001b[0;34m\u001b[0m\u001b[0m\n\u001b[0m\u001b[1;32m    191\u001b[0m     ) as handles:\n\u001b[1;32m    192\u001b[0m \u001b[0;34m\u001b[0m\u001b[0m\n",
      "\u001b[0;32m~/anaconda3/lib/python3.7/site-packages/pandas/io/common.py\u001b[0m in \u001b[0;36mget_handle\u001b[0;34m(path_or_buf, mode, encoding, compression, memory_map, is_text, errors, storage_options)\u001b[0m\n\u001b[1;32m    649\u001b[0m         \u001b[0;32melse\u001b[0m\u001b[0;34m:\u001b[0m\u001b[0;34m\u001b[0m\u001b[0;34m\u001b[0m\u001b[0m\n\u001b[1;32m    650\u001b[0m             \u001b[0;31m# Binary mode\u001b[0m\u001b[0;34m\u001b[0m\u001b[0;34m\u001b[0m\u001b[0;34m\u001b[0m\u001b[0m\n\u001b[0;32m--> 651\u001b[0;31m             \u001b[0mhandle\u001b[0m \u001b[0;34m=\u001b[0m \u001b[0mopen\u001b[0m\u001b[0;34m(\u001b[0m\u001b[0mhandle\u001b[0m\u001b[0;34m,\u001b[0m \u001b[0mioargs\u001b[0m\u001b[0;34m.\u001b[0m\u001b[0mmode\u001b[0m\u001b[0;34m)\u001b[0m\u001b[0;34m\u001b[0m\u001b[0;34m\u001b[0m\u001b[0m\n\u001b[0m\u001b[1;32m    652\u001b[0m         \u001b[0mhandles\u001b[0m\u001b[0;34m.\u001b[0m\u001b[0mappend\u001b[0m\u001b[0;34m(\u001b[0m\u001b[0mhandle\u001b[0m\u001b[0;34m)\u001b[0m\u001b[0;34m\u001b[0m\u001b[0;34m\u001b[0m\u001b[0m\n\u001b[1;32m    653\u001b[0m \u001b[0;34m\u001b[0m\u001b[0m\n",
      "\u001b[0;31mFileNotFoundError\u001b[0m: [Errno 2] No such file or directory: './emoji_train.pkl'"
     ]
    }
   ],
   "source": [
    "#import data from csv file for further processing\n",
    "import pandas as pd\n",
    "import numpy as np\n",
    "\n",
    "train = pd.read_pickle('./emoji_train.pkl')\n",
    "test = pd.read_pickle('./emoji_test.pkl')\n",
    "\n",
    "#df.head()\n",
    "#df.tail()\n",
    "#df.columns\n",
    "#pd.set_option(\"display.max_rows\", None, \"display.max_columns\", None)\n",
    "train\n",
    "test"
   ]
  },
  {
   "source": [
    "## Inspect DataSet"
   ],
   "cell_type": "markdown",
   "metadata": {}
  },
  {
   "cell_type": "code",
   "execution_count": null,
   "metadata": {
    "scrolled": true
   },
   "outputs": [],
   "source": [
    "# inspect data here\n",
    "train.describe()"
   ]
  },
  {
   "cell_type": "code",
   "execution_count": null,
   "metadata": {},
   "outputs": [],
   "source": [
    "test.describe()"
   ]
  },
  {
   "cell_type": "code",
   "execution_count": null,
   "metadata": {},
   "outputs": [],
   "source": [
    "np.unique(train['emoji_class'])"
   ]
  },
  {
   "cell_type": "code",
   "execution_count": null,
   "metadata": {},
   "outputs": [],
   "source": [
    "np.unique(test['emoji_class'])"
   ]
  },
  {
   "cell_type": "code",
   "execution_count": null,
   "metadata": {},
   "outputs": [],
   "source": [
    "print(list(train.columns.values))\n",
    "print(list(test.columns.values))"
   ]
  },
  {
   "cell_type": "code",
   "execution_count": null,
   "metadata": {},
   "outputs": [],
   "source": [
    "train_X = train[\"tweet\"]\n",
    "test_X = test[\"tweet\"]\n",
    "train_y = train[\"emoji_class\"]\n",
    "test_y = test[\"emoji_class\"]"
   ]
  },
  {
   "cell_type": "markdown",
   "metadata": {},
   "source": [
    "## Prepare tweet text"
   ]
  },
  {
   "cell_type": "code",
   "execution_count": null,
   "metadata": {
    "tags": []
   },
   "outputs": [],
   "source": [
    "from sklearn.feature_extraction.text import CountVectorizer\n",
    "from sklearn.feature_extraction.text import TfidfTransformer\n",
    "\n",
    "# Learn the vocabulary dictionary and return term-document matrix\n",
    "# Count Vectorizer - Convert a collection of text documents to a matrix of token counts\n",
    "\n",
    "vectorizer = CountVectorizer(analyzer = \"word\", \n",
    "                             preprocessor = None, \n",
    "                             stop_words =  'english', \n",
    "                             max_features = 2000, ngram_range=(1,5))\n",
    "word_matrix_train = vectorizer.fit_transform(train_X)\n",
    "\n",
    "#vectorizer_test.fit(vectorizer.get_feature_names())\n",
    "word_matrix_test = vectorizer.transform(test_X)\n",
    "\n",
    "print(len(vectorizer.get_feature_names()))\n",
    "print(len(vectorizer_test.get_feature_names()))\n",
    "#print(word_matrix_train.toarray())"
   ]
  },
  {
   "cell_type": "code",
   "execution_count": null,
   "metadata": {},
   "outputs": [],
   "source": [
    "# Normalize term document matrix\n",
    "tfidf_transformer = TfidfTransformer()\n",
    "normalized_train = tfidf_transformer.fit_transform(word_matrix_train)\n",
    "normalized_test = tfidf_transformer.fit_transform(word_matrix_test)"
   ]
  },
  {
   "source": [
    "## Train-Test Split"
   ],
   "cell_type": "markdown",
   "metadata": {}
  },
  {
   "cell_type": "code",
   "execution_count": null,
   "metadata": {},
   "outputs": [],
   "source": [
    "from sklearn.model_selection import train_test_split\n",
    "\n",
    "X_train, X_test, y_train, y_test = train_test_split(normalized_train, train_y, test_size=0.33, random_state=42)"
   ]
  },
  {
   "cell_type": "code",
   "execution_count": null,
   "metadata": {},
   "outputs": [],
   "source": [
    "from sklearn.neural_network import MLPClassifier\n",
    "\n",
    "# fit the model according to the training data\n",
    "classifier = MLPClassifier().fit(normalized_train, train_y)\n",
    "\n",
    "# test it out\n",
    "predictions = classifier.predict(normalized_test)\n",
    "\n",
    "print(predictions)"
   ]
  },
  {
   "cell_type": "markdown",
   "metadata": {},
   "source": [
    "##  Vergleich der Vorhersagen"
   ]
  },
  {
   "cell_type": "code",
   "execution_count": null,
   "metadata": {},
   "outputs": [],
   "source": [
    "from sklearn.metrics import mean_absolute_error\n",
    "from math import sqrt, pow"
   ]
  },
  {
   "cell_type": "code",
   "execution_count": null,
   "metadata": {},
   "outputs": [],
   "source": [
    "y"
   ]
  },
  {
   "cell_type": "code",
   "execution_count": null,
   "metadata": {},
   "outputs": [],
   "source": [
    "predictions = test_model.predict(X2)\n",
    "\n",
    "df_pred = pd.DataFrame(data=predictions)\n",
    "df_pred"
   ]
  },
  {
   "cell_type": "markdown",
   "metadata": {},
   "source": [
    "### Überblick"
   ]
  },
  {
   "cell_type": "code",
   "execution_count": null,
   "metadata": {},
   "outputs": [],
   "source": [
    "ax1 = y2.plot(figsize=(15,6))\n",
    "df_pred.plot(figsize=(15,6), ax = ax1)"
   ]
  },
  {
   "cell_type": "code",
   "execution_count": null,
   "metadata": {},
   "outputs": [],
   "source": [
    "df_pred.plot(figsize=(15,6), ylim = (-8000, 8000))"
   ]
  },
  {
   "cell_type": "code",
   "execution_count": null,
   "metadata": {},
   "outputs": [],
   "source": [
    "fig, axs = plt.subplots(2, sharex=True, sharey=True, figsize=(15,12))\n",
    "\n",
    "y2.plot(ax=axs[0]) \n",
    "df_pred.plot(ax=axs[1], legend=None)\n",
    "\n",
    "plt.xlabel(\"NC-Anweisung [#]\")\n",
    "fig.text(0.08, 0.5, 'Energieverbrauch / NC-Anweisung [Ws]', va='center', rotation='vertical')\n",
    "\n",
    "plt.subplots_adjust(hspace=0)"
   ]
  },
  {
   "cell_type": "markdown",
   "metadata": {},
   "source": [
    "### X-Achse"
   ]
  },
  {
   "cell_type": "code",
   "execution_count": null,
   "metadata": {},
   "outputs": [],
   "source": [
    "fig, axs = plt.subplots(2, sharex=True, sharey=True, figsize=(15,10))\n",
    "\n",
    "line1 = y2['ENERGY|x'].plot(ax=axs[0])\n",
    "line2 = df_pred[0].plot(ax=axs[1], color='r')\n",
    "\n",
    "plt.xlabel(\"NC-Anweisung [#]\")\n",
    "fig.text(0.09, 0.5, 'Energieverbrauch / NC-Anweisung [Ws]', va='center', rotation='vertical')\n",
    "\n",
    "plt.subplots_adjust(hspace=0)\n",
    "\n",
    "#y2['POWER|x'].plot(figsize=(15,6))\n",
    "#df_pred[0].plot(figsize=(15,6)) #, ax = ax1)"
   ]
  },
  {
   "cell_type": "code",
   "execution_count": null,
   "metadata": {},
   "outputs": [],
   "source": [
    "#df_pred[0].plot(figsize=(15,6))"
   ]
  },
  {
   "cell_type": "markdown",
   "metadata": {},
   "source": [
    "### y - Achse"
   ]
  },
  {
   "cell_type": "code",
   "execution_count": null,
   "metadata": {},
   "outputs": [],
   "source": [
    "fig, axs = plt.subplots(2, sharex=True, sharey=True, figsize=(15,10))\n",
    "\n",
    "y2['ENERGY|y'].plot(ax=axs[0]) \n",
    "df_pred[1].plot(ax=axs[1], color='r')\n",
    "\n",
    "plt.xlabel(\"NC-Anweisung [#]\")\n",
    "fig.text(0.09, 0.5, 'Energieverbrauch / NC-Anweisung [Ws]', va='center', rotation='vertical')\n",
    "\n",
    "plt.subplots_adjust(hspace=0)\n",
    "#axs[1].invert_yaxis()\n",
    "\n",
    "#y2['POWER|y'].plot(figsize=(15,6))"
   ]
  },
  {
   "cell_type": "code",
   "execution_count": null,
   "metadata": {},
   "outputs": [],
   "source": [
    "#df_pred[1].plot(figsize=(15,6))"
   ]
  },
  {
   "cell_type": "markdown",
   "metadata": {},
   "source": [
    "### z Achse"
   ]
  },
  {
   "cell_type": "code",
   "execution_count": null,
   "metadata": {},
   "outputs": [],
   "source": [
    "fig, axs = plt.subplots(2, sharex=True, sharey=True, figsize=(15,10))\n",
    "\n",
    "y2['ENERGY|z'].plot(ax=axs[0]) \n",
    "df_pred[2].plot(ax=axs[1], color='r')\n",
    "\n",
    "plt.xlabel(\"NC-Anweisung [#]\")\n",
    "fig.text(0.09, 0.5, 'Energieverbrauch / NC-Anweisung [Ws]', va='center', rotation='vertical')\n",
    "\n",
    "plt.subplots_adjust(hspace=0)\n",
    "\n",
    "#y['POWER|z'].plot(figsize=(15,6))"
   ]
  },
  {
   "cell_type": "code",
   "execution_count": null,
   "metadata": {},
   "outputs": [],
   "source": [
    "#df_pred[2].plot(figsize=(15,6))"
   ]
  },
  {
   "cell_type": "markdown",
   "metadata": {},
   "source": [
    "### Spindel"
   ]
  },
  {
   "cell_type": "code",
   "execution_count": null,
   "metadata": {},
   "outputs": [],
   "source": [
    "fig, axs = plt.subplots(2, sharex=True, sharey=True, figsize=(15,10))\n",
    "\n",
    "y2['ENERGY|S'].plot(ax=axs[0]) \n",
    "df_pred[3].plot(ax=axs[1], color='r')\n",
    "#axs[1].invert_yaxis()\n",
    "\n",
    "plt.xlabel(\"NC-Anweisung [#]\")\n",
    "fig.text(0.08, 0.5, 'Energieverbrauch / NC-Anweisung [Ws]', va='center', rotation='vertical')\n",
    "\n",
    "plt.subplots_adjust(hspace=0)\n",
    "#y['POWER|S'].plot(figsize=(15,6))"
   ]
  },
  {
   "cell_type": "markdown",
   "metadata": {},
   "source": [
    "### Toolchange"
   ]
  },
  {
   "cell_type": "code",
   "execution_count": null,
   "metadata": {},
   "outputs": [],
   "source": [
    "fig, axs = plt.subplots(2, sharex=True, sharey=True, figsize=(15,10))\n",
    "\n",
    "y2['ENERGY|T'].plot(ax=axs[0]) \n",
    "#df_pred[4].plot(ax=axs[1], color='r')\n",
    "\n",
    "#axs[1].invert_yaxis()\n",
    "df_pred[4].plot(ax=axs[1], color='r')\n",
    "#axs[1].invert_yaxis()\n",
    "\n",
    "plt.xlabel(\"NC-Anweisung [#]\")\n",
    "fig.text(0.09, 0.5, 'Energieverbrauch / NC-Anweisung [Ws]', va='center', rotation='vertical')\n",
    "\n",
    "\n",
    "plt.subplots_adjust(hspace=0)\n",
    "#y['POWER|T'].plot(figsize=(15,6))"
   ]
  },
  {
   "cell_type": "markdown",
   "metadata": {},
   "source": [
    "## Vorhersagegüte Quantifizieren"
   ]
  },
  {
   "cell_type": "code",
   "execution_count": null,
   "metadata": {},
   "outputs": [],
   "source": [
    "# Explained variance score\n",
    "\n",
    "from sklearn.metrics import explained_variance_score\n",
    "\n",
    "y_true = y2\n",
    "y_pred = df_pred\n",
    "\n",
    "explained_variance_score(y_true, y_pred,  multioutput= 'raw_values')"
   ]
  },
  {
   "cell_type": "code",
   "execution_count": null,
   "metadata": {},
   "outputs": [],
   "source": [
    "# mean absolut error\n",
    "\n",
    "from sklearn.metrics import mean_absolute_error\n",
    "\n",
    "y_true = y2\n",
    "y_pred = df_pred\n",
    "\n",
    "mean_absolute_error(y_true, y_pred, multioutput='raw_values')"
   ]
  },
  {
   "cell_type": "code",
   "execution_count": null,
   "metadata": {},
   "outputs": [],
   "source": [
    "# root mean square error (RMS)\n",
    "\n",
    "from sklearn.metrics import mean_squared_error\n",
    "import math\n",
    "\n",
    "y_true = y2\n",
    "y_pred = df_pred\n",
    "\n",
    "scores = mean_squared_error(y_true, y_pred, multioutput='raw_values')\n",
    "#print(scores)\n",
    "\n",
    "for i in range(len(scores)):\n",
    "    scores[i] =  math.sqrt(scores[i])\n",
    "    \n",
    "print(scores)"
   ]
  },
  {
   "cell_type": "code",
   "execution_count": null,
   "metadata": {
    "scrolled": true
   },
   "outputs": [],
   "source": [
    "# Vergleich von Prototypen\n",
    "\n",
    "from sklearn.metrics import mean_absolute_error\n",
    "from math import sqrt, pow\n",
    "from sklearn.metrics import mean_squared_error\n",
    "from sklearn.metrics import explained_variance_score\n",
    "from sklearn.metrics import r2_score\n",
    "from math import sqrt\n",
    "\n",
    "gesAbwArr = []\n",
    "maeArr = []\n",
    "rmsArr = []\n",
    "exVarArr = []\n",
    "\n",
    "scoresFrame = pd.DataFrame()\n",
    "\n",
    "for j in range(len(y2.columns)):\n",
    "    deviation = []\n",
    "    for i in range(len(y2.index)):\n",
    "        if y2.iloc[i, j] == 0 and df_pred.iloc[i, j] == 0:\n",
    "            deviation.append(0)\n",
    "        elif y2.iloc[i, j] == 0:\n",
    "            deviation.append(0)\n",
    "        else:    \n",
    "            deviation.append( ( y2.iloc[i, j] - df_pred.iloc[i, j]) / y2.iloc[i, j])\n",
    "    scoresFrame.insert(j, str(j), deviation)\n",
    "    #scoresFrame[str(j)] = deviation\n",
    "\n",
    "    mae = round(mean_absolute_error(y2.iloc[:,j], df_pred.iloc[:,j]), 2)\n",
    "    \n",
    "    exVar = round(explained_variance_score(y2.iloc[:,j], df_pred.iloc[:,j]), 2)\n",
    "    r2 = round(r2_score(y2.iloc[:,j], df_pred.iloc[:,j]), 2)\n",
    "    \n",
    "    \n",
    "    rms = round(sqrt(mean_squared_error(y_true.iloc[:,j], y_pred.iloc[:,j])), 2)\n",
    "    \n",
    "    sum_deviation = 0\n",
    "    for i in range(len(scoresFrame)):\n",
    "        sum_deviation += abs(scoresFrame.iloc[i, j])  #Fehler?\n",
    "    mean_deviation = sum_deviation / len(scoresFrame)\n",
    "    mre = round(mean_deviation * 100, 2)\n",
    "    mre2 = round(mae/(y2.iloc[:,j].mean())*100, 2)\n",
    "    gesAbw = round((((y2.iloc[:, j].sum() / df_pred.iloc[:, j].sum())-1)*100), 2)\n",
    "    \n",
    "    gesAbwArr.append(gesAbw)\n",
    "    maeArr.append(mae)\n",
    "    rmsArr.append(rms)\n",
    "    exVarArr.append(exVar)\n",
    "    \n",
    "    print(f'\\n------------------------------------ \\n' \n",
    "          f'{y2.columns[j]}\\n' \n",
    "          f'Gesammtabweichung {gesAbw}%\\n' \n",
    "          f'mean absolut error: {mae} Ws. \\n' \n",
    "#          f'mean of deviations: \\u00B1 {mre}% \\n' \n",
    "#          f'mae/mean_meassured: \\u00B1 {mre2}%\\n' \n",
    "          f'RMSE: {rms}\\n'\n",
    "          f'Explained Variance: {exVar}\\n'\n",
    "#          f'R2: {r2}\\n'\n",
    "          f'------------------------------------\\n')\n",
    "\n",
    "print(gesAbwArr)\n",
    "print(maeArr)\n",
    "print(rmsArr)\n",
    "print(exVarArr)\n",
    "print()\n",
    "\n",
    "row = 10    \n",
    "print(y2.iloc[[row]])\n",
    "print(df_pred.iloc[[row]])\n",
    "print(scoresFrame.iloc[[row]])\n"
   ]
  },
  {
   "cell_type": "code",
   "execution_count": null,
   "metadata": {},
   "outputs": [],
   "source": [
    "# Gesamtabweichung berechnen (mit Toolchange)\n",
    "\n",
    "\n",
    "sum_T_pred = np.sum(np.array(y_pred), axis=None)\n",
    "sum_T_pred\n",
    "\n",
    "sum_T_true = np.sum(np.array(y_true), axis=None)\n",
    "\n",
    "print(sum_T_pred)\n",
    "print(sum_T_true)\n",
    "\n",
    "dev_T = (sum_T_pred - sum_T_true) / sum_T_true\n",
    "dev_T"
   ]
  },
  {
   "cell_type": "code",
   "execution_count": null,
   "metadata": {},
   "outputs": [],
   "source": [
    "# Gesamtabweichung berechnen (ohne Toolchange)\n",
    "\n",
    "sum_pred = np.sum(np.delete(np.array(y_pred), [4], axis=1), axis=None)\n",
    "sum_pred\n",
    "\n",
    "sum_true = np.sum(np.delete(np.array(y_true), [4], axis=1), axis=None)\n",
    "\n",
    "print(sum_pred)\n",
    "print(sum_true)\n",
    "\n",
    "dev = (sum_pred - sum_true) / sum_true\n",
    "dev"
   ]
  },
  {
   "cell_type": "code",
   "execution_count": null,
   "metadata": {},
   "outputs": [],
   "source": [
    "#Ergebnisse mit / ohne Toolchange\n",
    "\n",
    "#RandomForrest: 10,04% / 9,79%\n",
    "#DecitionTree: 7.16& / 7.12%\n",
    "#AdaBoost: 69,64% / 70.67%"
   ]
  },
  {
   "cell_type": "code",
   "execution_count": null,
   "metadata": {},
   "outputs": [],
   "source": [
    "test_model"
   ]
  },
  {
   "cell_type": "code",
   "execution_count": null,
   "metadata": {},
   "outputs": [],
   "source": [
    "np.delete(np.array(y_pred), 4, axis=1)"
   ]
  },
  {
   "cell_type": "code",
   "execution_count": null,
   "metadata": {},
   "outputs": [],
   "source": [
    "pd.set_option(\"display.max_rows\", None, \"display.max_columns\", None)\n",
    "df"
   ]
  },
  {
   "cell_type": "code",
   "execution_count": null,
   "metadata": {
    "scrolled": false
   },
   "outputs": [],
   "source": [
    "import numpy as np\n",
    "import matplotlib.pyplot as plt\n",
    "\n",
    "from sklearn.datasets import make_classification\n",
    "from sklearn.ensemble import ExtraTreesClassifier\n",
    "\n",
    "importances = test_model.feature_importances_\n",
    "std = np.std([tree.feature_importances_ for tree in test_model.estimators_],\n",
    "             axis=0)\n",
    "indices = np.argsort(importances)[::-1]\n",
    "\n",
    "# Print the feature ranking\n",
    "print(\"Feature ranking:\")\n",
    "\n",
    "for f in range(X.shape[1]):\n",
    "    print(\"%d. %s (%f)\" % (f + 1, X.columns[f] , importances[indices[f]]))\n",
    "#indices[f]\n",
    "    \n",
    "# Plot the impurity-based feature importances of the forest\n",
    "plt.figure()\n",
    "plt.title(\"Feature importances\")\n",
    "plt.bar(range(X.shape[1]), importances[indices],\n",
    "        color=\"r\", yerr=std[indices], align=\"center\")\n",
    "plt.xticks(range(X.shape[1]), indices)\n",
    "plt.xlim([-1, X.shape[1]])\n",
    "plt.show()"
   ]
  },
  {
   "cell_type": "code",
   "execution_count": null,
   "metadata": {},
   "outputs": [],
   "source": [
    "for f in range(X.shape[1]):\n",
    "    print(\"%s\" % (X.columns[f]))"
   ]
  },
  {
   "cell_type": "code",
   "execution_count": null,
   "metadata": {},
   "outputs": [],
   "source": [
    "X.columns[1]"
   ]
  }
 ],
 "metadata": {
  "kernelspec": {
   "name": "python373jvsc74a57bd05b09300f1aaa29f91518898d289bfe7c6a13e39f5c39de69ed81889dba9d5a76",
   "display_name": "Python 3.7.3 64-bit ('anaconda3': virtualenv)"
  },
  "language_info": {
   "codemirror_mode": {
    "name": "ipython",
    "version": 3
   },
   "file_extension": ".py",
   "mimetype": "text/x-python",
   "name": "python",
   "nbconvert_exporter": "python",
   "pygments_lexer": "ipython3",
   "version": "3.7.3"
  }
 },
 "nbformat": 4,
 "nbformat_minor": 4
}