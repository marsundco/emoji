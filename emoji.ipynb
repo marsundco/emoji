{
 "cells": [
  {
   "cell_type": "markdown",
   "metadata": {},
   "source": [
    "# emoji prediciton"
   ]
  },
  {
   "cell_type": "markdown",
   "metadata": {},
   "source": [
    "## Importing pickle files"
   ]
  },
  {
   "cell_type": "code",
   "execution_count": 2,
   "metadata": {
    "scrolled": false
   },
   "outputs": [
    {
     "data": {
      "text/html": [
       "<div>\n",
       "<style scoped>\n",
       "    .dataframe tbody tr th:only-of-type {\n",
       "        vertical-align: middle;\n",
       "    }\n",
       "\n",
       "    .dataframe tbody tr th {\n",
       "        vertical-align: top;\n",
       "    }\n",
       "\n",
       "    .dataframe thead th {\n",
       "        text-align: right;\n",
       "    }\n",
       "</style>\n",
       "<table border=\"1\" class=\"dataframe\">\n",
       "  <thead>\n",
       "    <tr style=\"text-align: right;\">\n",
       "      <th></th>\n",
       "      <th>tweet</th>\n",
       "      <th>emoji_class</th>\n",
       "      <th>emoji</th>\n",
       "      <th>predicted_class</th>\n",
       "    </tr>\n",
       "  </thead>\n",
       "  <tbody>\n",
       "    <tr>\n",
       "      <th>0</th>\n",
       "      <td>Lmao. My #Bitmoji is so perfect. Looks and act...</td>\n",
       "      <td>1</td>\n",
       "      <td>😂</td>\n",
       "      <td>None</td>\n",
       "    </tr>\n",
       "    <tr>\n",
       "      <th>1</th>\n",
       "      <td>I like to call this the #tandem because we dec...</td>\n",
       "      <td>0</td>\n",
       "      <td>❤</td>\n",
       "      <td>None</td>\n",
       "    </tr>\n",
       "    <tr>\n",
       "      <th>2</th>\n",
       "      <td>Crab dip French toast! Yum! I Miss Shirley's! ...</td>\n",
       "      <td>0</td>\n",
       "      <td>❤</td>\n",
       "      <td>None</td>\n",
       "    </tr>\n",
       "    <tr>\n",
       "      <th>3</th>\n",
       "      <td>Happy Thanksgiving from my family to yours! ️ ...</td>\n",
       "      <td>0</td>\n",
       "      <td>❤</td>\n",
       "      <td>None</td>\n",
       "    </tr>\n",
       "    <tr>\n",
       "      <th>4</th>\n",
       "      <td>#familynight ️ @ Soho House West Hollywood \\n</td>\n",
       "      <td>0</td>\n",
       "      <td>❤</td>\n",
       "      <td>None</td>\n",
       "    </tr>\n",
       "    <tr>\n",
       "      <th>...</th>\n",
       "      <td>...</td>\n",
       "      <td>...</td>\n",
       "      <td>...</td>\n",
       "      <td>...</td>\n",
       "    </tr>\n",
       "    <tr>\n",
       "      <th>10652</th>\n",
       "      <td>Overshine by the sunlight ️ - Golden gate brid...</td>\n",
       "      <td>6</td>\n",
       "      <td>☀</td>\n",
       "      <td>None</td>\n",
       "    </tr>\n",
       "    <tr>\n",
       "      <th>10653</th>\n",
       "      <td>Those one handed interception drills coming in...</td>\n",
       "      <td>3</td>\n",
       "      <td>🔥</td>\n",
       "      <td>None</td>\n",
       "    </tr>\n",
       "    <tr>\n",
       "      <th>10654</th>\n",
       "      <td>Can I get a for this good looking group? We're...</td>\n",
       "      <td>0</td>\n",
       "      <td>❤</td>\n",
       "      <td>None</td>\n",
       "    </tr>\n",
       "    <tr>\n",
       "      <th>10655</th>\n",
       "      <td>w/ @user : @user with the shots @ Manhattan, N...</td>\n",
       "      <td>2</td>\n",
       "      <td>📸</td>\n",
       "      <td>None</td>\n",
       "    </tr>\n",
       "    <tr>\n",
       "      <th>10656</th>\n",
       "      <td>Obligatory Wedding Kiss Pic with @user ️qnhamp...</td>\n",
       "      <td>0</td>\n",
       "      <td>❤</td>\n",
       "      <td>None</td>\n",
       "    </tr>\n",
       "  </tbody>\n",
       "</table>\n",
       "<p>10657 rows × 4 columns</p>\n",
       "</div>"
      ],
      "text/plain": [
       "                                                   tweet  emoji_class emoji  \\\n",
       "0      Lmao. My #Bitmoji is so perfect. Looks and act...            1     😂   \n",
       "1      I like to call this the #tandem because we dec...            0     ❤   \n",
       "2      Crab dip French toast! Yum! I Miss Shirley's! ...            0     ❤   \n",
       "3      Happy Thanksgiving from my family to yours! ️ ...            0     ❤   \n",
       "4          #familynight ️ @ Soho House West Hollywood \\n            0     ❤   \n",
       "...                                                  ...          ...   ...   \n",
       "10652  Overshine by the sunlight ️ - Golden gate brid...            6     ☀   \n",
       "10653  Those one handed interception drills coming in...            3     🔥   \n",
       "10654  Can I get a for this good looking group? We're...            0     ❤   \n",
       "10655  w/ @user : @user with the shots @ Manhattan, N...            2     📸   \n",
       "10656  Obligatory Wedding Kiss Pic with @user ️qnhamp...            0     ❤   \n",
       "\n",
       "      predicted_class  \n",
       "0                None  \n",
       "1                None  \n",
       "2                None  \n",
       "3                None  \n",
       "4                None  \n",
       "...               ...  \n",
       "10652            None  \n",
       "10653            None  \n",
       "10654            None  \n",
       "10655            None  \n",
       "10656            None  \n",
       "\n",
       "[10657 rows x 4 columns]"
      ]
     },
     "execution_count": 2,
     "metadata": {},
     "output_type": "execute_result"
    }
   ],
   "source": [
    "#import data from csv file for further processing\n",
    "import pandas as pd\n",
    "import numpy as np\n",
    "\n",
    "train = pd.read_pickle('emoji_train.pkl')\n",
    "test = pd.read_pickle('emoji_test.pkl')\n",
    "\n",
    "#df.head()\n",
    "#df.tail()\n",
    "#df.columns\n",
    "#pd.set_option(\"display.max_rows\", None, \"display.max_columns\", None)\n",
    "train\n",
    "test"
   ]
  },
  {
   "cell_type": "markdown",
   "metadata": {},
   "source": [
    "## Inspect DataSet"
   ]
  },
  {
   "cell_type": "code",
   "execution_count": 3,
   "metadata": {
    "scrolled": true
   },
   "outputs": [
    {
     "data": {
      "text/html": [
       "<div>\n",
       "<style scoped>\n",
       "    .dataframe tbody tr th:only-of-type {\n",
       "        vertical-align: middle;\n",
       "    }\n",
       "\n",
       "    .dataframe tbody tr th {\n",
       "        vertical-align: top;\n",
       "    }\n",
       "\n",
       "    .dataframe thead th {\n",
       "        text-align: right;\n",
       "    }\n",
       "</style>\n",
       "<table border=\"1\" class=\"dataframe\">\n",
       "  <thead>\n",
       "    <tr style=\"text-align: right;\">\n",
       "      <th></th>\n",
       "      <th>emoji_class</th>\n",
       "    </tr>\n",
       "  </thead>\n",
       "  <tbody>\n",
       "    <tr>\n",
       "      <th>count</th>\n",
       "      <td>42627.000000</td>\n",
       "    </tr>\n",
       "    <tr>\n",
       "      <th>mean</th>\n",
       "      <td>1.625402</td>\n",
       "    </tr>\n",
       "    <tr>\n",
       "      <th>std</th>\n",
       "      <td>1.809426</td>\n",
       "    </tr>\n",
       "    <tr>\n",
       "      <th>min</th>\n",
       "      <td>0.000000</td>\n",
       "    </tr>\n",
       "    <tr>\n",
       "      <th>25%</th>\n",
       "      <td>0.000000</td>\n",
       "    </tr>\n",
       "    <tr>\n",
       "      <th>50%</th>\n",
       "      <td>1.000000</td>\n",
       "    </tr>\n",
       "    <tr>\n",
       "      <th>75%</th>\n",
       "      <td>3.000000</td>\n",
       "    </tr>\n",
       "    <tr>\n",
       "      <th>max</th>\n",
       "      <td>6.000000</td>\n",
       "    </tr>\n",
       "  </tbody>\n",
       "</table>\n",
       "</div>"
      ],
      "text/plain": [
       "        emoji_class\n",
       "count  42627.000000\n",
       "mean       1.625402\n",
       "std        1.809426\n",
       "min        0.000000\n",
       "25%        0.000000\n",
       "50%        1.000000\n",
       "75%        3.000000\n",
       "max        6.000000"
      ]
     },
     "execution_count": 3,
     "metadata": {},
     "output_type": "execute_result"
    }
   ],
   "source": [
    "# inspect data here\n",
    "train.describe()"
   ]
  },
  {
   "cell_type": "code",
   "execution_count": 4,
   "metadata": {},
   "outputs": [
    {
     "data": {
      "text/html": [
       "<div>\n",
       "<style scoped>\n",
       "    .dataframe tbody tr th:only-of-type {\n",
       "        vertical-align: middle;\n",
       "    }\n",
       "\n",
       "    .dataframe tbody tr th {\n",
       "        vertical-align: top;\n",
       "    }\n",
       "\n",
       "    .dataframe thead th {\n",
       "        text-align: right;\n",
       "    }\n",
       "</style>\n",
       "<table border=\"1\" class=\"dataframe\">\n",
       "  <thead>\n",
       "    <tr style=\"text-align: right;\">\n",
       "      <th></th>\n",
       "      <th>emoji_class</th>\n",
       "    </tr>\n",
       "  </thead>\n",
       "  <tbody>\n",
       "    <tr>\n",
       "      <th>count</th>\n",
       "      <td>10657.000000</td>\n",
       "    </tr>\n",
       "    <tr>\n",
       "      <th>mean</th>\n",
       "      <td>1.625223</td>\n",
       "    </tr>\n",
       "    <tr>\n",
       "      <th>std</th>\n",
       "      <td>1.809352</td>\n",
       "    </tr>\n",
       "    <tr>\n",
       "      <th>min</th>\n",
       "      <td>0.000000</td>\n",
       "    </tr>\n",
       "    <tr>\n",
       "      <th>25%</th>\n",
       "      <td>0.000000</td>\n",
       "    </tr>\n",
       "    <tr>\n",
       "      <th>50%</th>\n",
       "      <td>1.000000</td>\n",
       "    </tr>\n",
       "    <tr>\n",
       "      <th>75%</th>\n",
       "      <td>3.000000</td>\n",
       "    </tr>\n",
       "    <tr>\n",
       "      <th>max</th>\n",
       "      <td>6.000000</td>\n",
       "    </tr>\n",
       "  </tbody>\n",
       "</table>\n",
       "</div>"
      ],
      "text/plain": [
       "        emoji_class\n",
       "count  10657.000000\n",
       "mean       1.625223\n",
       "std        1.809352\n",
       "min        0.000000\n",
       "25%        0.000000\n",
       "50%        1.000000\n",
       "75%        3.000000\n",
       "max        6.000000"
      ]
     },
     "execution_count": 4,
     "metadata": {},
     "output_type": "execute_result"
    }
   ],
   "source": [
    "test.describe()"
   ]
  },
  {
   "cell_type": "code",
   "execution_count": 5,
   "metadata": {},
   "outputs": [
    {
     "data": {
      "text/plain": [
       "array([0, 1, 2, 3, 4, 5, 6])"
      ]
     },
     "execution_count": 5,
     "metadata": {},
     "output_type": "execute_result"
    }
   ],
   "source": [
    "np.unique(train['emoji_class'])"
   ]
  },
  {
   "cell_type": "code",
   "execution_count": 6,
   "metadata": {},
   "outputs": [
    {
     "data": {
      "text/plain": [
       "array([0, 1, 2, 3, 4, 5, 6])"
      ]
     },
     "execution_count": 6,
     "metadata": {},
     "output_type": "execute_result"
    }
   ],
   "source": [
    "np.unique(test['emoji_class'])"
   ]
  },
  {
   "cell_type": "code",
   "execution_count": 7,
   "metadata": {},
   "outputs": [
    {
     "name": "stdout",
     "output_type": "stream",
     "text": [
      "['tweet', 'emoji_class', 'emoji', 'predicted_class']\n",
      "['tweet', 'emoji_class', 'emoji', 'predicted_class']\n"
     ]
    }
   ],
   "source": [
    "print(list(train.columns.values))\n",
    "print(list(test.columns.values))"
   ]
  },
  {
   "cell_type": "code",
   "execution_count": 8,
   "metadata": {},
   "outputs": [
    {
     "name": "stdout",
     "output_type": "stream",
     "text": [
      "0        1\n",
      "1        0\n",
      "2        0\n",
      "3        0\n",
      "4        0\n",
      "        ..\n",
      "10652    6\n",
      "10653    3\n",
      "10654    0\n",
      "10655    2\n",
      "10656    0\n",
      "Name: emoji_class, Length: 10657, dtype: int64\n"
     ]
    }
   ],
   "source": [
    "train_X = train[\"tweet\"]\n",
    "test_X = test[\"tweet\"]\n",
    "train_y = train[\"emoji_class\"]\n",
    "test_y = test[\"emoji_class\"]\n",
    "\n",
    "print(test_y)"
   ]
  },
  {
   "cell_type": "markdown",
   "metadata": {},
   "source": [
    "## Prepare tweet text"
   ]
  },
  {
   "cell_type": "code",
   "execution_count": 9,
   "metadata": {
    "tags": []
   },
   "outputs": [
    {
     "name": "stderr",
     "output_type": "stream",
     "text": [
      "/Users/Marcel/anaconda3/lib/python3.7/site-packages/sklearn/feature_extraction/image.py:167: DeprecationWarning: `np.int` is a deprecated alias for the builtin `int`. To silence this warning, use `int` by itself. Doing this will not modify any behavior and is safe. When replacing `np.int`, you may wish to use e.g. `np.int64` or `np.int32` to specify the precision. If you wish to review your current use, check the release note link for additional information.\n",
      "Deprecated in NumPy 1.20; for more details and guidance: https://numpy.org/devdocs/release/1.20.0-notes.html#deprecations\n",
      "  dtype=np.int):\n"
     ]
    },
    {
     "name": "stdout",
     "output_type": "stream",
     "text": [
      "['10', '11', '12', '17', '2016', '2017', '4th', '4th july', 'adventure', 'ago', 'ain', 'airport', 'amazing', 'america', 'american', 'amp', 'angeles', 'angeles california', 'arizona', 'art', 'atlanta', 'away', 'awesome', 'baby', 'bad', 'bar', 'bay', 'beach', 'beach california', 'beautiful', 'beauty', 'best', 'best friend', 'better', 'beverly', 'big', 'bio', 'birthday', 'black', 'blessed', 'blue', 'boy', 'boys', 'breakfast', 'bridge', 'brooklyn', 'brother', 'ca', 'cafe', 'cali', 'california', 'came', 'canyon', 'carolina', 'celebrating', 'center', 'check', 'chicago', 'christmas', 'christmas eve', 'christmas tree', 'church', 'city', 'class', 'club', 'coffee', 'college', 'colorado', 'come', 'coming', 'cool', 'country', 'county', 'crazy', 'crew', 'cute', 'dad', 'dance', 'date', 'day', 'days', 'did', 'didn', 'diego', 'diego california', 'dinner', 'disney', 'disneyland', 'district', 'dog', 'doing', 'don', 'downtown', 'early', 'east', 'en', 'end', 'enjoying', 'eve', 'excited', 'face', 'fall', 'fam', 'family', 'farm', 'fashion', 'favorite', 'feel', 'feeling', 'finally', 'fitness', 'florida', 'follow', 'food', 'forever', 'francisco', 'francisco california', 'free', 'friday', 'friend', 'friends', 'fun', 'funny', 'game', 'garden', 'gate', 'georgia', 'getting', 'girl', 'girls', 'god', 'going', 'golden', 'gonna', 'good', 'good morning', 'gorgeous', 'got', 'gotta', 'grand', 'grateful', 'great', 'grill', 'guy', 'guys', 'hair', 'hall', 'happy', 'happy 4th', 'happy birthday', 'hard', 'having', 'heart', 'hello', 'high', 'high school', 'hills', 'holiday', 'holidays', 'hollywood', 'home', 'hope', 'hot', 'hotel', 'house', 'houston', 'international', 'international airport', 'island', 'jersey', 'july', 'just', 'kids', 'know', 'la', 'ladies', 'lake', 'las', 'las vegas', 'lasvegas', 'let', 'life', 'light', 'lights', 'like', 'lil', 'link', 'link bio', 'lit', 'little', 'live', 'll', 'lmao', 'lol', 'long', 'look', 'looking', 'looks', 'los', 'los angeles', 'losangeles', 'lot', 'lounge', 'love', 'love user', 'loved', 'lovely', 'loves', 'loving', 'lunch', 'make', 'makes', 'making', 'malibu', 'man', 'manhattan', 'market', 'meet', 'memories', 'merica', 'merry', 'merry christmas', 'merrychristmas', 'miami', 'miss', 'missing', 'model', 'mom', 'moment', 'monday', 'monica', 'morning', 'mountain', 'museum', 'music', 'national', 'need', 'nevada', 'new', 'new jersey', 'new year', 'new york', 'nice', 'night', 'nights', 'north', 'ny', 'nyc', 'oakland', 'ocean', 'oh', 'ohio', 'old', 'open', 'oregon', 'park', 'party', 'people', 'perfect', 'photo', 'photography', 'photos', 'pic', 'picture', 'pier', 'place', 'play', 'playing', 'point', 'portland', 'post', 'pretty', 'proud', 'ready', 'real', 'really', 'red', 'repost', 'repost user', 'resort', 'restaurant', 'right', 'river', 'rock', 'room', 'run', 'said', 'san', 'san diego', 'san francisco', 'sanfrancisco', 'santa', 'santa monica', 'saturday', 'say', 'school', 'season', 'seattle', 'selfie', 'set', 'sf', 'shit', 'shoot', 'shop', 'shot', 'sister', 'smile', 'song', 'soon', 'south', 'special', 'springs', 'square', 'st', 'stadium', 'start', 'state', 'stay', 'stop', 'street', 'studio', 'studios', 'style', 'summer', 'sun', 'sunday', 'sunny', 'sunset', 'sunshine', 'super', 'support', 'sure', 'sweet', 'taking', 'tbt', 'team', 'tell', 'texas', 'thank', 'thankful', 'thanks', 'thanksgiving', 'theatre', 'thing', 'things', 'think', 'throwback', 'time', 'times', 'today', 'tomorrow', 'tonight', 'took', 'town', 'travel', 'tree', 'trip', 'true', 'trying', 'united', 'university', 'usa', 'user', 'user amp', 'user los', 'user user', 'valley', 've', 'vegas', 'venice', 'venice beach', 'vibes', 'video', 'view', 'wait', 'walk', 'want', 'washington', 'watch', 'way', 'wedding', 'week', 'weekend', 'welcome', 'went', 'west', 'white', 'winter', 'wish', 'wonderful', 'work', 'working', 'world', 'ya', 'year', 'years', 'yes', 'yesterday', 'york', 'york new']\n"
     ]
    }
   ],
   "source": [
    "from sklearn.feature_extraction.text import CountVectorizer\n",
    "from sklearn.feature_extraction.text import TfidfTransformer\n",
    "\n",
    "# Learn the vocabulary dictionary and return term-document matrix\n",
    "# Count Vectorizer - Convert a collection of text documents to a matrix of token counts\n",
    "\n",
    "vectorizer = CountVectorizer(analyzer = \"word\", \n",
    "                             preprocessor = None, \n",
    "                             stop_words =  'english', \n",
    "                             max_features = 400, ngram_range=(1,2))\n",
    "word_matrix_train = vectorizer.fit_transform(train_X)\n",
    "\n",
    "word_matrix_test = vectorizer.transform(test_X)\n",
    "\n",
    "print(vectorizer.get_feature_names())\n",
    "#print(word_matrix_train.toarray())"
   ]
  },
  {
   "cell_type": "code",
   "execution_count": 10,
   "metadata": {},
   "outputs": [],
   "source": [
    "# Normalize term document matrix\n",
    "tfidf_transformer = TfidfTransformer()\n",
    "normalized_train = tfidf_transformer.fit_transform(word_matrix_train)\n",
    "normalized_test = tfidf_transformer.fit_transform(word_matrix_test)"
   ]
  },
  {
   "cell_type": "markdown",
   "metadata": {},
   "source": [
    "## Train-Test Split"
   ]
  },
  {
   "cell_type": "code",
   "execution_count": 11,
   "metadata": {},
   "outputs": [],
   "source": [
    "from sklearn.model_selection import train_test_split\n",
    "\n",
    "X_train, X_test, y_train, y_test = train_test_split(normalized_train, train_y, test_size=0.2, random_state=42)"
   ]
  },
  {
   "cell_type": "code",
   "execution_count": 12,
   "metadata": {},
   "outputs": [
    {
     "name": "stderr",
     "output_type": "stream",
     "text": [
      "/Users/Marcel/anaconda3/lib/python3.7/site-packages/sklearn/neighbors/base.py:908: DeprecationWarning: `np.int` is a deprecated alias for the builtin `int`. To silence this warning, use `int` by itself. Doing this will not modify any behavior and is safe. When replacing `np.int`, you may wish to use e.g. `np.int64` or `np.int32` to specify the precision. If you wish to review your current use, check the release note link for additional information.\n",
      "Deprecated in NumPy 1.20; for more details and guidance: https://numpy.org/devdocs/release/1.20.0-notes.html#deprecations\n",
      "  self._y = np.empty(y.shape, dtype=np.int)\n",
      "/Users/Marcel/anaconda3/lib/python3.7/site-packages/sklearn/metrics/pairwise.py:56: DeprecationWarning: `np.float` is a deprecated alias for the builtin `float`. To silence this warning, use `float` by itself. Doing this will not modify any behavior and is safe. If you specifically wanted the numpy scalar type, use `np.float64` here.\n",
      "Deprecated in NumPy 1.20; for more details and guidance: https://numpy.org/devdocs/release/1.20.0-notes.html#deprecations\n",
      "  dtype = np.float\n",
      "/Users/Marcel/anaconda3/lib/python3.7/site-packages/sklearn/metrics/pairwise.py:56: DeprecationWarning: `np.float` is a deprecated alias for the builtin `float`. To silence this warning, use `float` by itself. Doing this will not modify any behavior and is safe. If you specifically wanted the numpy scalar type, use `np.float64` here.\n",
      "Deprecated in NumPy 1.20; for more details and guidance: https://numpy.org/devdocs/release/1.20.0-notes.html#deprecations\n",
      "  dtype = np.float\n",
      "/Users/Marcel/anaconda3/lib/python3.7/site-packages/sklearn/metrics/pairwise.py:56: DeprecationWarning: `np.float` is a deprecated alias for the builtin `float`. To silence this warning, use `float` by itself. Doing this will not modify any behavior and is safe. If you specifically wanted the numpy scalar type, use `np.float64` here.\n",
      "Deprecated in NumPy 1.20; for more details and guidance: https://numpy.org/devdocs/release/1.20.0-notes.html#deprecations\n",
      "  dtype = np.float\n",
      "/Users/Marcel/anaconda3/lib/python3.7/site-packages/sklearn/metrics/pairwise.py:56: DeprecationWarning: `np.float` is a deprecated alias for the builtin `float`. To silence this warning, use `float` by itself. Doing this will not modify any behavior and is safe. If you specifically wanted the numpy scalar type, use `np.float64` here.\n",
      "Deprecated in NumPy 1.20; for more details and guidance: https://numpy.org/devdocs/release/1.20.0-notes.html#deprecations\n",
      "  dtype = np.float\n",
      "/Users/Marcel/anaconda3/lib/python3.7/site-packages/sklearn/metrics/pairwise.py:56: DeprecationWarning: `np.float` is a deprecated alias for the builtin `float`. To silence this warning, use `float` by itself. Doing this will not modify any behavior and is safe. If you specifically wanted the numpy scalar type, use `np.float64` here.\n",
      "Deprecated in NumPy 1.20; for more details and guidance: https://numpy.org/devdocs/release/1.20.0-notes.html#deprecations\n",
      "  dtype = np.float\n",
      "/Users/Marcel/anaconda3/lib/python3.7/site-packages/sklearn/metrics/pairwise.py:56: DeprecationWarning: `np.float` is a deprecated alias for the builtin `float`. To silence this warning, use `float` by itself. Doing this will not modify any behavior and is safe. If you specifically wanted the numpy scalar type, use `np.float64` here.\n",
      "Deprecated in NumPy 1.20; for more details and guidance: https://numpy.org/devdocs/release/1.20.0-notes.html#deprecations\n",
      "  dtype = np.float\n"
     ]
    }
   ],
   "source": [
    "from sklearn.neural_network import MLPClassifier\n",
    "from sklearn.tree import DecisionTreeClassifier\n",
    "from sklearn.neighbors import KNeighborsClassifier\n",
    "\n",
    "neigh = KNeighborsClassifier(n_neighbors=10)\n",
    "neigh.fit(X_train, y_train)\n",
    "predictions = neigh.predict(X_test)\n",
    "\n",
    "# fit the model according to the training data\n",
    "#classifier = DecisionTreeClassifier().fit(X_train, y_train)\n",
    "\n",
    "# test it out"
   ]
  },
  {
   "cell_type": "code",
   "execution_count": 13,
   "metadata": {},
   "outputs": [
    {
     "data": {
      "text/html": [
       "<div>\n",
       "<style scoped>\n",
       "    .dataframe tbody tr th:only-of-type {\n",
       "        vertical-align: middle;\n",
       "    }\n",
       "\n",
       "    .dataframe tbody tr th {\n",
       "        vertical-align: top;\n",
       "    }\n",
       "\n",
       "    .dataframe thead th {\n",
       "        text-align: right;\n",
       "    }\n",
       "</style>\n",
       "<table border=\"1\" class=\"dataframe\">\n",
       "  <thead>\n",
       "    <tr style=\"text-align: right;\">\n",
       "      <th></th>\n",
       "      <th>emoji_class</th>\n",
       "      <th>predictions</th>\n",
       "    </tr>\n",
       "  </thead>\n",
       "  <tbody>\n",
       "    <tr>\n",
       "      <th>1557</th>\n",
       "      <td>0</td>\n",
       "      <td>0</td>\n",
       "    </tr>\n",
       "    <tr>\n",
       "      <th>30385</th>\n",
       "      <td>0</td>\n",
       "      <td>0</td>\n",
       "    </tr>\n",
       "    <tr>\n",
       "      <th>33335</th>\n",
       "      <td>2</td>\n",
       "      <td>6</td>\n",
       "    </tr>\n",
       "    <tr>\n",
       "      <th>18623</th>\n",
       "      <td>0</td>\n",
       "      <td>4</td>\n",
       "    </tr>\n",
       "    <tr>\n",
       "      <th>2982</th>\n",
       "      <td>2</td>\n",
       "      <td>0</td>\n",
       "    </tr>\n",
       "    <tr>\n",
       "      <th>...</th>\n",
       "      <td>...</td>\n",
       "      <td>...</td>\n",
       "    </tr>\n",
       "    <tr>\n",
       "      <th>2894</th>\n",
       "      <td>0</td>\n",
       "      <td>0</td>\n",
       "    </tr>\n",
       "    <tr>\n",
       "      <th>19419</th>\n",
       "      <td>0</td>\n",
       "      <td>0</td>\n",
       "    </tr>\n",
       "    <tr>\n",
       "      <th>28033</th>\n",
       "      <td>1</td>\n",
       "      <td>0</td>\n",
       "    </tr>\n",
       "    <tr>\n",
       "      <th>36677</th>\n",
       "      <td>0</td>\n",
       "      <td>0</td>\n",
       "    </tr>\n",
       "    <tr>\n",
       "      <th>19828</th>\n",
       "      <td>4</td>\n",
       "      <td>4</td>\n",
       "    </tr>\n",
       "  </tbody>\n",
       "</table>\n",
       "<p>8526 rows × 2 columns</p>\n",
       "</div>"
      ],
      "text/plain": [
       "       emoji_class  predictions\n",
       "1557             0            0\n",
       "30385            0            0\n",
       "33335            2            6\n",
       "18623            0            4\n",
       "2982             2            0\n",
       "...            ...          ...\n",
       "2894             0            0\n",
       "19419            0            0\n",
       "28033            1            0\n",
       "36677            0            0\n",
       "19828            4            4\n",
       "\n",
       "[8526 rows x 2 columns]"
      ]
     },
     "execution_count": 13,
     "metadata": {},
     "output_type": "execute_result"
    }
   ],
   "source": [
    "results = pd.DataFrame(y_test)\n",
    "results['predictions'] = predictions\n",
    "results"
   ]
  },
  {
   "cell_type": "code",
   "execution_count": 14,
   "metadata": {
    "tags": []
   },
   "outputs": [
    {
     "name": "stdout",
     "output_type": "stream",
     "text": [
      "3846\n",
      "4680\n"
     ]
    }
   ],
   "source": [
    "right_pred = 0\n",
    "false_pred = 0\n",
    "\n",
    "for index, row in results.iterrows():\n",
    "    if row['emoji_class'] == row['predictions']:\n",
    "        right_pred += 1\n",
    "    else:\n",
    "        false_pred += 1\n",
    "\n",
    "print(right_pred)\n",
    "print(false_pred)"
   ]
  },
  {
   "cell_type": "code",
   "execution_count": null,
   "metadata": {},
   "outputs": [],
   "source": []
  }
 ],
 "metadata": {
  "kernelspec": {
   "display_name": "Python 3.7.3 64-bit ('anaconda3': virtualenv)",
   "language": "python",
   "name": "python37364bitanaconda3virtualenv8f23ab9083ad4bb2922fa2e3a20cd9b1"
  },
  "language_info": {
   "codemirror_mode": {
    "name": "ipython",
    "version": 3
   },
   "file_extension": ".py",
   "mimetype": "text/x-python",
   "name": "python",
   "nbconvert_exporter": "python",
   "pygments_lexer": "ipython3",
   "version": "3.7.3"
  }
 },
 "nbformat": 4,
 "nbformat_minor": 4
}
